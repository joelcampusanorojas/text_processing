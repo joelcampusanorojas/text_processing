{
 "cells": [
  {
   "cell_type": "markdown",
   "metadata": {},
   "source": [
    "# Text Processing\n",
    "\n",
    "## Capturing Text Data\n",
    "\n",
    "### Plain Text"
   ]
  },
  {
   "cell_type": "code",
   "execution_count": 2,
   "metadata": {},
   "outputs": [
    {
     "name": "stdout",
     "output_type": "stream",
     "text": [
      "Hieroglyphic writing dates from c. 3000 BC, and is composed of hundreds of symbols. A hieroglyph can represent a word, a sound, or a silent determinative; and the same symbol can serve different purposes in different contexts. Hieroglyphs were a formal script, used on stone monuments and in tombs, that could be as detailed as individual works of art.\n",
      "\n"
     ]
    }
   ],
   "source": [
    "import os\n",
    "\n",
    "# Read in a plain text file\n",
    "with open(os.path.join(\"data\", \"hieroglyph.txt\"), \"r\") as f:\n",
    "    text = f.read()\n",
    "    print(text)"
   ]
  },
  {
   "cell_type": "markdown",
   "metadata": {},
   "source": [
    "### Tabular Data"
   ]
  },
  {
   "cell_type": "code",
   "execution_count": 4,
   "metadata": {
    "scrolled": true
   },
   "outputs": [
    {
     "data": {
      "text/html": [
       "<div>\n",
       "<style scoped>\n",
       "    .dataframe tbody tr th:only-of-type {\n",
       "        vertical-align: middle;\n",
       "    }\n",
       "\n",
       "    .dataframe tbody tr th {\n",
       "        vertical-align: top;\n",
       "    }\n",
       "\n",
       "    .dataframe thead th {\n",
       "        text-align: right;\n",
       "    }\n",
       "</style>\n",
       "<table border=\"1\" class=\"dataframe\">\n",
       "  <thead>\n",
       "    <tr style=\"text-align: right;\">\n",
       "      <th></th>\n",
       "      <th>publisher</th>\n",
       "      <th>title</th>\n",
       "    </tr>\n",
       "  </thead>\n",
       "  <tbody>\n",
       "    <tr>\n",
       "      <th>0</th>\n",
       "      <td>livemint</td>\n",
       "      <td>fed's charles plosser sees high bar for change...</td>\n",
       "    </tr>\n",
       "    <tr>\n",
       "      <th>1</th>\n",
       "      <td>ifa magazine</td>\n",
       "      <td>us open: stocks fall after fed official hints ...</td>\n",
       "    </tr>\n",
       "    <tr>\n",
       "      <th>2</th>\n",
       "      <td>ifa magazine</td>\n",
       "      <td>fed risks falling 'behind the curve', charles ...</td>\n",
       "    </tr>\n",
       "    <tr>\n",
       "      <th>3</th>\n",
       "      <td>moneynews</td>\n",
       "      <td>fed's plosser: nasty weather has curbed job gr...</td>\n",
       "    </tr>\n",
       "    <tr>\n",
       "      <th>4</th>\n",
       "      <td>nasdaq</td>\n",
       "      <td>plosser: fed may have to accelerate tapering pace</td>\n",
       "    </tr>\n",
       "  </tbody>\n",
       "</table>\n",
       "</div>"
      ],
      "text/plain": [
       "      publisher                                              title\n",
       "0      livemint  fed's charles plosser sees high bar for change...\n",
       "1  ifa magazine  us open: stocks fall after fed official hints ...\n",
       "2  ifa magazine  fed risks falling 'behind the curve', charles ...\n",
       "3     moneynews  fed's plosser: nasty weather has curbed job gr...\n",
       "4        nasdaq  plosser: fed may have to accelerate tapering pace"
      ]
     },
     "execution_count": 4,
     "metadata": {},
     "output_type": "execute_result"
    }
   ],
   "source": [
    "import pandas as pd\n",
    "\n",
    "# Extract text column from a dataframe\n",
    "df = pd.read_csv(os.path.join(\"data\", \"news.csv\"))\n",
    "df.head()[['publisher', 'title']]\n",
    "\n",
    "# Convert text column to lowercase\n",
    "df['title'] = df['title'].str.lower()\n",
    "df['publisher'] = df['publisher'].str.lower()\n",
    "df.head()[['publisher', 'title']]"
   ]
  },
  {
   "cell_type": "markdown",
   "metadata": {},
   "source": [
    "### Online Resource"
   ]
  },
  {
   "cell_type": "code",
   "execution_count": 5,
   "metadata": {
    "scrolled": true
   },
   "outputs": [
    {
     "name": "stdout",
     "output_type": "stream",
     "text": [
      "{\n",
      "    \"success\": {\n",
      "        \"total\": 1\n",
      "    },\n",
      "    \"contents\": {\n",
      "        \"quotes\": [\n",
      "            {\n",
      "                \"quote\": \"What you do speaks so loudly that I cannot hear what you say.\",\n",
      "                \"length\": \"61\",\n",
      "                \"author\": \"Ralph Waldo Emerson\",\n",
      "                \"tags\": [\n",
      "                    \"action\",\n",
      "                    \"inspire\",\n",
      "                    \"leadership\",\n",
      "                    \"management\",\n",
      "                    \"tod\"\n",
      "                ],\n",
      "                \"category\": \"inspire\",\n",
      "                \"language\": \"en\",\n",
      "                \"date\": \"2020-08-23\",\n",
      "                \"permalink\": \"https://theysaidso.com/quote/ralph-waldo-emerson-what-you-do-speaks-so-loudly-that-i-cannot-hear-what-you-say\",\n",
      "                \"id\": \"eZ0NtMPtGp8c5eQJOBfJmweF\",\n",
      "                \"background\": \"https://theysaidso.com/img/qod/qod-inspire.jpg\",\n",
      "                \"title\": \"Inspiring Quote of the day\"\n",
      "            }\n",
      "        ]\n",
      "    },\n",
      "    \"baseurl\": \"https://theysaidso.com\",\n",
      "    \"copyright\": {\n",
      "        \"year\": 2022,\n",
      "        \"url\": \"https://theysaidso.com\"\n",
      "    }\n",
      "}\n",
      "What you do speaks so loudly that I cannot hear what you say. \n",
      "-- Ralph Waldo Emerson\n"
     ]
    }
   ],
   "source": [
    "import requests\n",
    "import json\n",
    "\n",
    "# Fetch data from a REST API\n",
    "r = requests.get(\n",
    "    \"https://quotes.rest/qod.json\")\n",
    "res = r.json()\n",
    "print(json.dumps(res, indent=4))\n",
    "\n",
    "# Extract relevant object and field\n",
    "q = res[\"contents\"][\"quotes\"][0]\n",
    "print(q[\"quote\"], \"\\n--\", q[\"author\"])"
   ]
  },
  {
   "cell_type": "markdown",
   "metadata": {},
   "source": [
    "## Cleaning"
   ]
  },
  {
   "cell_type": "code",
   "execution_count": 6,
   "metadata": {
    "scrolled": true
   },
   "outputs": [
    {
     "name": "stdout",
     "output_type": "stream",
     "text": [
      "<html lang=\"en\" op=\"news\"><head><meta name=\"referrer\" content=\"origin\"><meta name=\"viewport\" content=\"width=device-width, initial-scale=1.0\"><link rel=\"stylesheet\" type=\"text/css\" href=\"news.css?ixbO4BlIS8HIUiSaCCi2\">\n",
      "        <link rel=\"shortcut icon\" href=\"favicon.ico\">\n",
      "          <link rel=\"alternate\" type=\"application/rss+xml\" title=\"RSS\" href=\"rss\">\n",
      "        <title>Hacker News</title></head><body><center><table id=\"hnmain\" border=\"0\" cellpadding=\"0\" cellspacing=\"0\" width=\"85%\" bgcolor=\"#f6f6ef\">\n",
      "        <tr><td bgcolor=\"#ff6600\"><table border=\"0\" cellpadding=\"0\" cellspacing=\"0\" width=\"100%\" style=\"padding:2px\"><tr><td style=\"width:18px;padding-right:4px\"><a href=\"https://news.ycombinator.com\"><img src=\"y18.gif\" width=\"18\" height=\"18\" style=\"border:1px white solid;\"></a></td>\n",
      "                  <td style=\"line-height:12pt; height:10px;\"><span class=\"pagetop\"><b class=\"hnname\"><a href=\"news\">Hacker News</a></b>\n",
      "              <a href=\"newest\">new</a> | <a href=\"front\">past</a> | <a href=\"newcomments\">comments</a> | <a href=\"ask\">ask</a> | <a href=\"show\">show</a> | <a href=\"jobs\">jobs</a> | <a href=\"submit\">submit</a>            </span></td><td style=\"text-align:right;padding-right:4px;\"><span class=\"pagetop\">\n",
      "                              <a href=\"login?goto=news\">login</a>\n",
      "                          </span></td>\n",
      "              </tr></table></td></tr>\n",
      "<tr id=\"pagespace\" title=\"\" style=\"height:10px\"></tr><tr><td><table border=\"0\" cellpadding=\"0\" cellspacing=\"0\" class=\"itemlist\">\n",
      "              <tr class='athing' id='24255452'>\n",
      "      <td align=\"right\" valign=\"top\" class=\"title\"><span class=\"rank\">1.</span></td>      <td valign=\"top\" class=\"votelinks\"><center><a id='up_24255452' href='vote?id=24255452&amp;how=up&amp;goto=news'><div class='votearrow' title='upvote'></div></a></center></td><td class=\"title\"><a href=\"https://news.yale.edu/2020/08/12/new-nitrogen-products-are-air\" class=\"storylink\">New nitrogen products are in the air</a><span class=\"sitebit comhead\"> (<a href=\"from?site=yale.edu\"><span class=\"sitestr\">yale.edu</span></a>)</span></td></tr><tr><td colspan=\"2\"></td><td class=\"subtext\">\n",
      "        <span class=\"score\" id=\"score_24255452\">33 points</span> by <a href=\"user?id=apsec112\" class=\"hnuser\">apsec112</a> <span class=\"age\"><a href=\"item?id=24255452\">1 hour ago</a></span> <span id=\"unv_24255452\"></span> | <a href=\"hide?id=24255452&amp;goto=news\">hide</a> | <a href=\"item?id=24255452\">2&nbsp;comments</a>              </td></tr>\n",
      "      <tr class=\"spacer\" style=\"height:5px\"></tr>\n",
      "                <tr class='athing' id='24251403'>\n",
      "      <td align=\"right\" valign=\"top\" class=\"title\"><span class=\"rank\">2.</span></td>      <td valign=\"top\" class=\"votelinks\"><center><a id='up_24251403' href='vote?id=24251403&amp;how=up&amp;goto=news'><div class='votearrow' title='upvote'></div></a></center></td><td class=\"title\"><a href=\"https://vishnu.tech/posts/persistence/\" class=\"storylink\">Persisting as a solo founder</a><span class=\"sitebit comhead\"> (<a href=\"from?site=vishnu.tech\"><span class=\"sitestr\">vishnu.tech</span></a>)</span></td></tr><tr><td colspan=\"2\"></td><td class=\"subtext\">\n",
      "        <span class=\"score\" id=\"score_24251403\">453 points</span> by <a href=\"user?id=vishnumohandas\" class=\"hnuser\">vishnumohandas</a> <span class=\"age\"><a href=\"item?id=24251403\">10 hours ago</a></span> <span id=\"unv_24251403\"></span> | <a href=\"hide?id=24251403&amp;goto=news\">hide</a> | <a href=\"item?id=24251403\">181&nbsp;comments</a>              </td></tr>\n",
      "      <tr class=\"spacer\" style=\"height:5px\"></tr>\n",
      "                <tr class='athing' id='24252737'>\n",
      "      <td align=\"right\" valign=\"top\" class=\"title\"><span class=\"rank\">3.</span></td>      <td valign=\"top\" class=\"votelinks\"><center><a id='up_24252737' href='vote?id=24252737&amp;how=up&amp;goto=news'><div class='votearrow' title='upvote'></div></a></center></td><td class=\"title\"><a href=\"http://blog.notdot.net/2012/10/Build-your-own-FPGA\" class=\"storylink\">Build Your Own FPGA (2012)</a><span class=\"sitebit comhead\"> (<a href=\"from?site=notdot.net\"><span class=\"sitestr\">notdot.net</span></a>)</span></td></tr><tr><td colspan=\"2\"></td><td class=\"subtext\">\n",
      "        <span class=\"score\" id=\"score_24252737\">141 points</span> by <a href=\"user?id=hinzundcode\" class=\"hnuser\">hinzundcode</a> <span class=\"age\"><a href=\"item?id=24252737\">7 hours ago</a></span> <span id=\"unv_24252737\"></span> | <a href=\"hide?id=24252737&amp;goto=news\">hide</a> | <a href=\"item?id=24252737\">14&nbsp;comments</a>              </td></tr>\n",
      "      <tr class=\"spacer\" style=\"height:5px\"></tr>\n",
      "                <tr class='athing' id='24252524'>\n",
      "      <td align=\"right\" valign=\"top\" class=\"title\"><span class=\"rank\">4.</span></td>      <td valign=\"top\" class=\"votelinks\"><center><a id='up_24252524' href='vote?id=24252524&amp;how=up&amp;goto=news'><div class='votearrow' title='upvote'></div></a></center></td><td class=\"title\"><a href=\"https://zainamro.com/hacks/finding-vulnerable-twitter-accounts\" class=\"storylink\">Finding vulnerable Twitter accounts with expired domains</a><span class=\"sitebit comhead\"> (<a href=\"from?site=zainamro.com\"><span class=\"sitestr\">zainamro.com</span></a>)</span></td></tr><tr><td colspan=\"2\"></td><td class=\"subtext\">\n",
      "        <span class=\"score\" id=\"score_24252524\">135 points</span> by <a href=\"user?id=zainamro\" class=\"hnuser\">zainamro</a> <span class=\"age\"><a href=\"item?id=24252524\">7 hours ago</a></span> <span id=\"unv_24252524\"></span> | <a href=\"hide?id=24252524&amp;goto=news\">hide</a> | <a href=\"item?id=24252524\">70&nbsp;comments</a>              </td></tr>\n",
      "      <tr class=\"spacer\" style=\"height:5px\"></tr>\n",
      "                <tr class='athing' id='24249536'>\n",
      "      <td align=\"right\" valign=\"top\" class=\"title\"><span class=\"rank\">5.</span></td>      <td valign=\"top\" class=\"votelinks\"><center><a id='up_24249536' href='vote?id=24249536&amp;how=up&amp;goto=news'><div class='votearrow' title='upvote'></div></a></center></td><td class=\"title\"><a href=\"http://www.woad.org.uk\" class=\"storylink\">All about Woad</a><span class=\"sitebit comhead\"> (<a href=\"from?site=woad.org.uk\"><span class=\"sitestr\">woad.org.uk</span></a>)</span></td></tr><tr><td colspan=\"2\"></td><td class=\"subtext\">\n",
      "        <span class=\"score\" id=\"score_24249536\">27 points</span> by <a href=\"user?id=brudgers\" class=\"hnuser\">brudgers</a> <span class=\"age\"><a href=\"item?id=24249536\">3 hours ago</a></span> <span id=\"unv_24249536\"></span> | <a href=\"hide?id=24249536&amp;goto=news\">hide</a> | <a href=\"item?id=24249536\">5&nbsp;comments</a>              </td></tr>\n",
      "      <tr class=\"spacer\" style=\"height:5px\"></tr>\n",
      "                <tr class='athing' id='24253066'>\n",
      "      <td align=\"right\" valign=\"top\" class=\"title\"><span class=\"rank\">6.</span></td>      <td valign=\"top\" class=\"votelinks\"><center><a id='up_24253066' href='vote?id=24253066&amp;how=up&amp;goto=news'><div class='votearrow' title='upvote'></div></a></center></td><td class=\"title\"><a href=\"https://songwhip.com\" class=\"storylink\">Songwhip – Share a music link to every platform</a><span class=\"sitebit comhead\"> (<a href=\"from?site=songwhip.com\"><span class=\"sitestr\">songwhip.com</span></a>)</span></td></tr><tr><td colspan=\"2\"></td><td class=\"subtext\">\n",
      "        <span class=\"score\" id=\"score_24253066\">85 points</span> by <a href=\"user?id=styfle\" class=\"hnuser\">styfle</a> <span class=\"age\"><a href=\"item?id=24253066\">6 hours ago</a></span> <span id=\"unv_24253066\"></span> | <a href=\"hide?id=24253066&amp;goto=news\">hide</a> | <a href=\"item?id=24253066\">18&nbsp;comments</a>              </td></tr>\n",
      "      <tr class=\"spacer\" style=\"height:5px\"></tr>\n",
      "                <tr class='athing' id='24251417'>\n",
      "      <td align=\"right\" valign=\"top\" class=\"title\"><span class=\"rank\">7.</span></td>      <td valign=\"top\" class=\"votelinks\"><center><a id='up_24251417' href='vote?id=24251417&amp;how=up&amp;goto=news'><div class='votearrow' title='upvote'></div></a></center></td><td class=\"title\"><a href=\"https://thecritic.co.uk/the-demise-of-the-second-hand-bookshop/\" class=\"storylink\">The demise of the second-hand bookshop</a><span class=\"sitebit comhead\"> (<a href=\"from?site=thecritic.co.uk\"><span class=\"sitestr\">thecritic.co.uk</span></a>)</span></td></tr><tr><td colspan=\"2\"></td><td class=\"subtext\">\n",
      "        <span class=\"score\" id=\"score_24251417\">103 points</span> by <a href=\"user?id=pseudolus\" class=\"hnuser\">pseudolus</a> <span class=\"age\"><a href=\"item?id=24251417\">8 hours ago</a></span> <span id=\"unv_24251417\"></span> | <a href=\"hide?id=24251417&amp;goto=news\">hide</a> | <a href=\"item?id=24251417\">82&nbsp;comments</a>              </td></tr>\n",
      "      <tr class=\"spacer\" style=\"height:5px\"></tr>\n",
      "                <tr class='athing' id='24250947'>\n",
      "      <td align=\"right\" valign=\"top\" class=\"title\"><span class=\"rank\">8.</span></td>      <td valign=\"top\" class=\"votelinks\"><center><a id='up_24250947' href='vote?id=24250947&amp;how=up&amp;goto=news'><div class='votearrow' title='upvote'></div></a></center></td><td class=\"title\"><a href=\"https://github.com/lukicdarkoo/rpi-wifi\" class=\"storylink\">Simultaneous AP and Client Mode Wi-Fi on Raspberry Pi Zero W</a><span class=\"sitebit comhead\"> (<a href=\"from?site=github.com\"><span class=\"sitestr\">github.com</span></a>)</span></td></tr><tr><td colspan=\"2\"></td><td class=\"subtext\">\n",
      "        <span class=\"score\" id=\"score_24250947\">212 points</span> by <a href=\"user?id=lukicdarkoo\" class=\"hnuser\">lukicdarkoo</a> <span class=\"age\"><a href=\"item?id=24250947\">12 hours ago</a></span> <span id=\"unv_24250947\"></span> | <a href=\"hide?id=24250947&amp;goto=news\">hide</a> | <a href=\"item?id=24250947\">78&nbsp;comments</a>              </td></tr>\n",
      "      <tr class=\"spacer\" style=\"height:5px\"></tr>\n",
      "                <tr class='athing' id='24252408'>\n",
      "      <td align=\"right\" valign=\"top\" class=\"title\"><span class=\"rank\">9.</span></td>      <td valign=\"top\" class=\"votelinks\"><center><a id='up_24252408' href='vote?id=24252408&amp;how=up&amp;goto=news'><div class='votearrow' title='upvote'></div></a></center></td><td class=\"title\"><a href=\"item?id=24252408\" class=\"storylink\">Launch HN: Depict.ai (YC S20) – Product recommendations for any e-commerce store</a></td></tr><tr><td colspan=\"2\"></td><td class=\"subtext\">\n",
      "        <span class=\"score\" id=\"score_24252408\">81 points</span> by <a href=\"user?id=antonoo\" class=\"hnuser\">antonoo</a> <span class=\"age\"><a href=\"item?id=24252408\">7 hours ago</a></span> <span id=\"unv_24252408\"></span> | <a href=\"hide?id=24252408&amp;goto=news\">hide</a> | <a href=\"item?id=24252408\">41&nbsp;comments</a>              </td></tr>\n",
      "      <tr class=\"spacer\" style=\"height:5px\"></tr>\n",
      "                <tr class='athing' id='24246074'>\n",
      "      <td align=\"right\" valign=\"top\" class=\"title\"><span class=\"rank\">10.</span></td>      <td valign=\"top\" class=\"votelinks\"><center><a id='up_24246074' href='vote?id=24246074&amp;how=up&amp;goto=news'><div class='votearrow' title='upvote'></div></a></center></td><td class=\"title\"><a href=\"https://dev.to/codeguppy/implement-an-emulator-for-a-fantasy-cpu-in-javascript-3617\" class=\"storylink\">Implement an emulator for a fantasy CPU in JavaScript</a><span class=\"sitebit comhead\"> (<a href=\"from?site=dev.to\"><span class=\"sitestr\">dev.to</span></a>)</span></td></tr><tr><td colspan=\"2\"></td><td class=\"subtext\">\n",
      "        <span class=\"score\" id=\"score_24246074\">33 points</span> by <a href=\"user?id=codeguppy\" class=\"hnuser\">codeguppy</a> <span class=\"age\"><a href=\"item?id=24246074\">5 hours ago</a></span> <span id=\"unv_24246074\"></span> | <a href=\"hide?id=24246074&amp;goto=news\">hide</a> | <a href=\"item?id=24246074\">3&nbsp;comments</a>              </td></tr>\n",
      "      <tr class=\"spacer\" style=\"height:5px\"></tr>\n",
      "                <tr class='athing' id='24254165'>\n",
      "      <td align=\"right\" valign=\"top\" class=\"title\"><span class=\"rank\">11.</span></td>      <td valign=\"top\" class=\"votelinks\"><center><a id='up_24254165' href='vote?id=24254165&amp;how=up&amp;goto=news'><div class='votearrow' title='upvote'></div></a></center></td><td class=\"title\"><a href=\"https://venturebeat.com/2020/08/12/natural-language-benchmarks-dont-measure-ai-models-general-knowledge-well-research-shows/\" class=\"storylink\">Natural language benchmarks don’t measure AI models’ general knowledge well</a><span class=\"sitebit comhead\"> (<a href=\"from?site=venturebeat.com\"><span class=\"sitestr\">venturebeat.com</span></a>)</span></td></tr><tr><td colspan=\"2\"></td><td class=\"subtext\">\n",
      "        <span class=\"score\" id=\"score_24254165\">26 points</span> by <a href=\"user?id=optimalsolver\" class=\"hnuser\">optimalsolver</a> <span class=\"age\"><a href=\"item?id=24254165\">4 hours ago</a></span> <span id=\"unv_24254165\"></span> | <a href=\"hide?id=24254165&amp;goto=news\">hide</a> | <a href=\"item?id=24254165\">8&nbsp;comments</a>              </td></tr>\n",
      "      <tr class=\"spacer\" style=\"height:5px\"></tr>\n",
      "                <tr class='athing' id='24250735'>\n",
      "      <td align=\"right\" valign=\"top\" class=\"title\"><span class=\"rank\">12.</span></td>      <td valign=\"top\" class=\"votelinks\"><center><a id='up_24250735' href='vote?id=24250735&amp;how=up&amp;goto=news'><div class='votearrow' title='upvote'></div></a></center></td><td class=\"title\"><a href=\"https://www.myfourierepicycles.com/\" class=\"storylink\">My Fourier Epicycles</a><span class=\"sitebit comhead\"> (<a href=\"from?site=myfourierepicycles.com\"><span class=\"sitestr\">myfourierepicycles.com</span></a>)</span></td></tr><tr><td colspan=\"2\"></td><td class=\"subtext\">\n",
      "        <span class=\"score\" id=\"score_24250735\">54 points</span> by <a href=\"user?id=signa11\" class=\"hnuser\">signa11</a> <span class=\"age\"><a href=\"item?id=24250735\">6 hours ago</a></span> <span id=\"unv_24250735\"></span> | <a href=\"hide?id=24250735&amp;goto=news\">hide</a> | <a href=\"item?id=24250735\">9&nbsp;comments</a>              </td></tr>\n",
      "      <tr class=\"spacer\" style=\"height:5px\"></tr>\n",
      "                <tr class='athing' id='24250418'>\n",
      "      <td align=\"right\" valign=\"top\" class=\"title\"><span class=\"rank\">13.</span></td>      <td valign=\"top\" class=\"votelinks\"><center><a id='up_24250418' href='vote?id=24250418&amp;how=up&amp;goto=news'><div class='votearrow' title='upvote'></div></a></center></td><td class=\"title\"><a href=\"https://glyph.twistedmatrix.com/2020/08/never-run-python-in-your-downloads-folder.html\" class=\"storylink\">Never run ‘python’ in your downloads folder</a><span class=\"sitebit comhead\"> (<a href=\"from?site=twistedmatrix.com\"><span class=\"sitestr\">twistedmatrix.com</span></a>)</span></td></tr><tr><td colspan=\"2\"></td><td class=\"subtext\">\n",
      "        <span class=\"score\" id=\"score_24250418\">152 points</span> by <a href=\"user?id=ingve\" class=\"hnuser\">ingve</a> <span class=\"age\"><a href=\"item?id=24250418\">12 hours ago</a></span> <span id=\"unv_24250418\"></span> | <a href=\"hide?id=24250418&amp;goto=news\">hide</a> | <a href=\"item?id=24250418\">95&nbsp;comments</a>              </td></tr>\n",
      "      <tr class=\"spacer\" style=\"height:5px\"></tr>\n",
      "                <tr class='athing' id='24256000'>\n",
      "      <td align=\"right\" valign=\"top\" class=\"title\"><span class=\"rank\">14.</span></td>      <td valign=\"top\" class=\"votelinks\"><center><a id='up_24256000' href='vote?id=24256000&amp;how=up&amp;goto=news'><div class='votearrow' title='upvote'></div></a></center></td><td class=\"title\"><a href=\"https://www.wsj.com/articles/facebook-ceo-mark-zuckerberg-stoked-washingtons-fears-about-tiktok-11598223133\" class=\"storylink\">Mark Zuckerberg Stoked Washington’s Fears About TikTok</a><span class=\"sitebit comhead\"> (<a href=\"from?site=wsj.com\"><span class=\"sitestr\">wsj.com</span></a>)</span></td></tr><tr><td colspan=\"2\"></td><td class=\"subtext\">\n",
      "        <span class=\"score\" id=\"score_24256000\">11 points</span> by <a href=\"user?id=ra7\" class=\"hnuser\">ra7</a> <span class=\"age\"><a href=\"item?id=24256000\">14 minutes ago</a></span> <span id=\"unv_24256000\"></span> | <a href=\"hide?id=24256000&amp;goto=news\">hide</a> | <a href=\"item?id=24256000\">4&nbsp;comments</a>              </td></tr>\n",
      "      <tr class=\"spacer\" style=\"height:5px\"></tr>\n",
      "                <tr class='athing' id='24252048'>\n",
      "      <td align=\"right\" valign=\"top\" class=\"title\"><span class=\"rank\">15.</span></td>      <td valign=\"top\" class=\"votelinks\"><center><a id='up_24252048' href='vote?id=24252048&amp;how=up&amp;goto=news'><div class='votearrow' title='upvote'></div></a></center></td><td class=\"title\"><a href=\"https://onlinelibrary.wiley.com/doi/full/10.1002/aenm.202001189\" class=\"storylink\">Semi-transparent solar panels allow concurrent production of crops and power</a><span class=\"sitebit comhead\"> (<a href=\"from?site=wiley.com\"><span class=\"sitestr\">wiley.com</span></a>)</span></td></tr><tr><td colspan=\"2\"></td><td class=\"subtext\">\n",
      "        <span class=\"score\" id=\"score_24252048\">159 points</span> by <a href=\"user?id=rch\" class=\"hnuser\">rch</a> <span class=\"age\"><a href=\"item?id=24252048\">9 hours ago</a></span> <span id=\"unv_24252048\"></span> | <a href=\"hide?id=24252048&amp;goto=news\">hide</a> | <a href=\"item?id=24252048\">164&nbsp;comments</a>              </td></tr>\n",
      "      <tr class=\"spacer\" style=\"height:5px\"></tr>\n",
      "                <tr class='athing' id='24249420'>\n",
      "      <td align=\"right\" valign=\"top\" class=\"title\"><span class=\"rank\">16.</span></td>      <td valign=\"top\" class=\"votelinks\"><center><a id='up_24249420' href='vote?id=24249420&amp;how=up&amp;goto=news'><div class='votearrow' title='upvote'></div></a></center></td><td class=\"title\"><a href=\"https://www2.cs.arizona.edu/classes/cs520/spring06/bliss.pdf\" class=\"storylink\">Bliss: A language for systems programming (1971) [pdf]</a><span class=\"sitebit comhead\"> (<a href=\"from?site=arizona.edu\"><span class=\"sitestr\">arizona.edu</span></a>)</span></td></tr><tr><td colspan=\"2\"></td><td class=\"subtext\">\n",
      "        <span class=\"score\" id=\"score_24249420\">15 points</span> by <a href=\"user?id=tjalfi\" class=\"hnuser\">tjalfi</a> <span class=\"age\"><a href=\"item?id=24249420\">2 hours ago</a></span> <span id=\"unv_24249420\"></span> | <a href=\"hide?id=24249420&amp;goto=news\">hide</a> | <a href=\"item?id=24249420\">4&nbsp;comments</a>              </td></tr>\n",
      "      <tr class=\"spacer\" style=\"height:5px\"></tr>\n",
      "                <tr class='athing' id='24243360'>\n",
      "      <td align=\"right\" valign=\"top\" class=\"title\"><span class=\"rank\">17.</span></td>      <td valign=\"top\" class=\"votelinks\"><center><a id='up_24243360' href='vote?id=24243360&amp;how=up&amp;goto=news'><div class='votearrow' title='upvote'></div></a></center></td><td class=\"title\"><a href=\"https://bitshifters.github.io/posts/prods/bs-badapple.html\" class=\"storylink\">Teletext Bad Apple</a><span class=\"sitebit comhead\"> (<a href=\"from?site=bitshifters.github.io\"><span class=\"sitestr\">bitshifters.github.io</span></a>)</span></td></tr><tr><td colspan=\"2\"></td><td class=\"subtext\">\n",
      "        <span class=\"score\" id=\"score_24243360\">36 points</span> by <a href=\"user?id=bemmu\" class=\"hnuser\">bemmu</a> <span class=\"age\"><a href=\"item?id=24243360\">4 hours ago</a></span> <span id=\"unv_24243360\"></span> | <a href=\"hide?id=24243360&amp;goto=news\">hide</a> | <a href=\"item?id=24243360\">9&nbsp;comments</a>              </td></tr>\n",
      "      <tr class=\"spacer\" style=\"height:5px\"></tr>\n",
      "                <tr class='athing' id='24251905'>\n",
      "      <td align=\"right\" valign=\"top\" class=\"title\"><span class=\"rank\">18.</span></td>      <td valign=\"top\" class=\"votelinks\"><center><a id='up_24251905' href='vote?id=24251905&amp;how=up&amp;goto=news'><div class='votearrow' title='upvote'></div></a></center></td><td class=\"title\"><a href=\"https://hbr.org/2020/02/how-to-leave-work-at-work\" class=\"storylink\">How to Leave Work at Work</a><span class=\"sitebit comhead\"> (<a href=\"from?site=hbr.org\"><span class=\"sitestr\">hbr.org</span></a>)</span></td></tr><tr><td colspan=\"2\"></td><td class=\"subtext\">\n",
      "        <span class=\"score\" id=\"score_24251905\">90 points</span> by <a href=\"user?id=wallflower\" class=\"hnuser\">wallflower</a> <span class=\"age\"><a href=\"item?id=24251905\">9 hours ago</a></span> <span id=\"unv_24251905\"></span> | <a href=\"hide?id=24251905&amp;goto=news\">hide</a> | <a href=\"item?id=24251905\">29&nbsp;comments</a>              </td></tr>\n",
      "      <tr class=\"spacer\" style=\"height:5px\"></tr>\n",
      "                <tr class='athing' id='24251131'>\n",
      "      <td align=\"right\" valign=\"top\" class=\"title\"><span class=\"rank\">19.</span></td>      <td valign=\"top\" class=\"votelinks\"><center><a id='up_24251131' href='vote?id=24251131&amp;how=up&amp;goto=news'><div class='votearrow' title='upvote'></div></a></center></td><td class=\"title\"><a href=\"https://github.com/nsfw-filter/nsfw-filter\" class=\"storylink\">Chrome, Firefox extension that blocks NSFW images using TensorFlow JS</a><span class=\"sitebit comhead\"> (<a href=\"from?site=github.com\"><span class=\"sitestr\">github.com</span></a>)</span></td></tr><tr><td colspan=\"2\"></td><td class=\"subtext\">\n",
      "        <span class=\"score\" id=\"score_24251131\">124 points</span> by <a href=\"user?id=bishalb\" class=\"hnuser\">bishalb</a> <span class=\"age\"><a href=\"item?id=24251131\">11 hours ago</a></span> <span id=\"unv_24251131\"></span> | <a href=\"hide?id=24251131&amp;goto=news\">hide</a> | <a href=\"item?id=24251131\">136&nbsp;comments</a>              </td></tr>\n",
      "      <tr class=\"spacer\" style=\"height:5px\"></tr>\n",
      "                <tr class='athing' id='24251203'>\n",
      "      <td align=\"right\" valign=\"top\" class=\"title\"><span class=\"rank\">20.</span></td>      <td valign=\"top\" class=\"votelinks\"><center><a id='up_24251203' href='vote?id=24251203&amp;how=up&amp;goto=news'><div class='votearrow' title='upvote'></div></a></center></td><td class=\"title\"><a href=\"https://www.theregister.com/2020/08/18/paragon_tries_to_contribute_ntfs/\" class=\"storylink\">Paragon submits 27k NTFS driver to Linux kernel</a><span class=\"sitebit comhead\"> (<a href=\"from?site=theregister.com\"><span class=\"sitestr\">theregister.com</span></a>)</span></td></tr><tr><td colspan=\"2\"></td><td class=\"subtext\">\n",
      "        <span class=\"score\" id=\"score_24251203\">129 points</span> by <a href=\"user?id=kiyanwang\" class=\"hnuser\">kiyanwang</a> <span class=\"age\"><a href=\"item?id=24251203\">11 hours ago</a></span> <span id=\"unv_24251203\"></span> | <a href=\"hide?id=24251203&amp;goto=news\">hide</a> | <a href=\"item?id=24251203\">99&nbsp;comments</a>              </td></tr>\n",
      "      <tr class=\"spacer\" style=\"height:5px\"></tr>\n",
      "                <tr class='athing' id='24251362'>\n",
      "      <td align=\"right\" valign=\"top\" class=\"title\"><span class=\"rank\">21.</span></td>      <td valign=\"top\" class=\"votelinks\"><center><a id='up_24251362' href='vote?id=24251362&amp;how=up&amp;goto=news'><div class='votearrow' title='upvote'></div></a></center></td><td class=\"title\"><a href=\"https://torrentfreak.com/yts-torrent-giant-is-part-of-a-bizarre-brand-new-anti-piracy-scheme-200823/\" class=\"storylink\">YTS torrent tracker part of new anti-piracy scheme</a><span class=\"sitebit comhead\"> (<a href=\"from?site=torrentfreak.com\"><span class=\"sitestr\">torrentfreak.com</span></a>)</span></td></tr><tr><td colspan=\"2\"></td><td class=\"subtext\">\n",
      "        <span class=\"score\" id=\"score_24251362\">134 points</span> by <a href=\"user?id=stiray\" class=\"hnuser\">stiray</a> <span class=\"age\"><a href=\"item?id=24251362\">10 hours ago</a></span> <span id=\"unv_24251362\"></span> | <a href=\"hide?id=24251362&amp;goto=news\">hide</a> | <a href=\"item?id=24251362\">58&nbsp;comments</a>              </td></tr>\n",
      "      <tr class=\"spacer\" style=\"height:5px\"></tr>\n",
      "                <tr class='athing' id='24253548'>\n",
      "      <td align=\"right\" valign=\"top\" class=\"title\"><span class=\"rank\">22.</span></td>      <td valign=\"top\" class=\"votelinks\"><center><a id='up_24253548' href='vote?id=24253548&amp;how=up&amp;goto=news'><div class='votearrow' title='upvote'></div></a></center></td><td class=\"title\"><a href=\"https://boook.link\" class=\"storylink\">Show HN: Boook.link – Share a book with links to all stores</a><span class=\"sitebit comhead\"> (<a href=\"from?site=boook.link\"><span class=\"sitestr\">boook.link</span></a>)</span></td></tr><tr><td colspan=\"2\"></td><td class=\"subtext\">\n",
      "        <span class=\"score\" id=\"score_24253548\">37 points</span> by <a href=\"user?id=Cenk\" class=\"hnuser\">Cenk</a> <span class=\"age\"><a href=\"item?id=24253548\">5 hours ago</a></span> <span id=\"unv_24253548\"></span> | <a href=\"hide?id=24253548&amp;goto=news\">hide</a> | <a href=\"item?id=24253548\">8&nbsp;comments</a>              </td></tr>\n",
      "      <tr class=\"spacer\" style=\"height:5px\"></tr>\n",
      "                <tr class='athing' id='24254048'>\n",
      "      <td align=\"right\" valign=\"top\" class=\"title\"><span class=\"rank\">23.</span></td>      <td valign=\"top\" class=\"votelinks\"><center><a id='up_24254048' href='vote?id=24254048&amp;how=up&amp;goto=news'><div class='votearrow' title='upvote'></div></a></center></td><td class=\"title\"><a href=\"https://www.ecorax.net/as-above-so-below-1/\" class=\"storylink\">Bare Metal Rust Generics</a><span class=\"sitebit comhead\"> (<a href=\"from?site=ecorax.net\"><span class=\"sitestr\">ecorax.net</span></a>)</span></td></tr><tr><td colspan=\"2\"></td><td class=\"subtext\">\n",
      "        <span class=\"score\" id=\"score_24254048\">142 points</span> by <a href=\"user?id=cube00\" class=\"hnuser\">cube00</a> <span class=\"age\"><a href=\"item?id=24254048\">4 hours ago</a></span> <span id=\"unv_24254048\"></span> | <a href=\"hide?id=24254048&amp;goto=news\">hide</a> | <a href=\"item?id=24254048\">28&nbsp;comments</a>              </td></tr>\n",
      "      <tr class=\"spacer\" style=\"height:5px\"></tr>\n",
      "                <tr class='athing' id='24248443'>\n",
      "      <td align=\"right\" valign=\"top\" class=\"title\"><span class=\"rank\">24.</span></td>      <td valign=\"top\" class=\"votelinks\"><center><a id='up_24248443' href='vote?id=24248443&amp;how=up&amp;goto=news'><div class='votearrow' title='upvote'></div></a></center></td><td class=\"title\"><a href=\"https://www.laphamsquarterly.org/roundtable/disaster-poet\" class=\"storylink\" rel=\"nofollow\">The Disaster Poet</a><span class=\"sitebit comhead\"> (<a href=\"from?site=laphamsquarterly.org\"><span class=\"sitestr\">laphamsquarterly.org</span></a>)</span></td></tr><tr><td colspan=\"2\"></td><td class=\"subtext\">\n",
      "        <span class=\"score\" id=\"score_24248443\">4 points</span> by <a href=\"user?id=benbreen\" class=\"hnuser\">benbreen</a> <span class=\"age\"><a href=\"item?id=24248443\">1 hour ago</a></span> <span id=\"unv_24248443\"></span> | <a href=\"hide?id=24248443&amp;goto=news\">hide</a> | <a href=\"item?id=24248443\">1&nbsp;comment</a>              </td></tr>\n",
      "      <tr class=\"spacer\" style=\"height:5px\"></tr>\n",
      "                <tr class='athing' id='24255481'>\n",
      "      <td align=\"right\" valign=\"top\" class=\"title\"><span class=\"rank\">25.</span></td>      <td valign=\"top\" class=\"votelinks\"><center><a id='up_24255481' href='vote?id=24255481&amp;how=up&amp;goto=news'><div class='votearrow' title='upvote'></div></a></center></td><td class=\"title\"><a href=\"https://www.theguardian.com/environment/2020/aug/23/earth-lost-28-trillion-tonnes-ice-30-years-global-warming\" class=\"storylink\">Earth has lost 28 trillion tonnes of ice in less than 30 years</a><span class=\"sitebit comhead\"> (<a href=\"from?site=theguardian.com\"><span class=\"sitestr\">theguardian.com</span></a>)</span></td></tr><tr><td colspan=\"2\"></td><td class=\"subtext\">\n",
      "        <span class=\"score\" id=\"score_24255481\">27 points</span> by <a href=\"user?id=seigando\" class=\"hnuser\">seigando</a> <span class=\"age\"><a href=\"item?id=24255481\">1 hour ago</a></span> <span id=\"unv_24255481\"></span> | <a href=\"hide?id=24255481&amp;goto=news\">hide</a> | <a href=\"item?id=24255481\">5&nbsp;comments</a>              </td></tr>\n",
      "      <tr class=\"spacer\" style=\"height:5px\"></tr>\n",
      "                <tr class='athing' id='24251164'>\n",
      "      <td align=\"right\" valign=\"top\" class=\"title\"><span class=\"rank\">26.</span></td>      <td valign=\"top\" class=\"votelinks\"><center><a id='up_24251164' href='vote?id=24251164&amp;how=up&amp;goto=news'><div class='votearrow' title='upvote'></div></a></center></td><td class=\"title\"><a href=\"https://www.theregister.com/2020/08/22/chromium_devs_raw_sockets/\" class=\"storylink\">Chromium devs want the browser to talk to devices, computers directly</a><span class=\"sitebit comhead\"> (<a href=\"from?site=theregister.com\"><span class=\"sitestr\">theregister.com</span></a>)</span></td></tr><tr><td colspan=\"2\"></td><td class=\"subtext\">\n",
      "        <span class=\"score\" id=\"score_24251164\">89 points</span> by <a href=\"user?id=kiyanwang\" class=\"hnuser\">kiyanwang</a> <span class=\"age\"><a href=\"item?id=24251164\">11 hours ago</a></span> <span id=\"unv_24251164\"></span> | <a href=\"hide?id=24251164&amp;goto=news\">hide</a> | <a href=\"item?id=24251164\">50&nbsp;comments</a>              </td></tr>\n",
      "      <tr class=\"spacer\" style=\"height:5px\"></tr>\n",
      "                <tr class='athing' id='24254765'>\n",
      "      <td align=\"right\" valign=\"top\" class=\"title\"><span class=\"rank\">27.</span></td>      <td valign=\"top\" class=\"votelinks\"><center><a id='up_24254765' href='vote?id=24254765&amp;how=up&amp;goto=news'><div class='votearrow' title='upvote'></div></a></center></td><td class=\"title\"><a href=\"https://www.youtube.com/watch?v=jchxsSdBRLo\" class=\"storylink\">Airbus pilot tries Microsoft Flight Simulator [video]</a><span class=\"sitebit comhead\"> (<a href=\"from?site=youtube.com\"><span class=\"sitestr\">youtube.com</span></a>)</span></td></tr><tr><td colspan=\"2\"></td><td class=\"subtext\">\n",
      "        <span class=\"score\" id=\"score_24254765\">87 points</span> by <a href=\"user?id=doener\" class=\"hnuser\">doener</a> <span class=\"age\"><a href=\"item?id=24254765\">3 hours ago</a></span> <span id=\"unv_24254765\"></span> | <a href=\"hide?id=24254765&amp;goto=news\">hide</a> | <a href=\"item?id=24254765\">60&nbsp;comments</a>              </td></tr>\n",
      "      <tr class=\"spacer\" style=\"height:5px\"></tr>\n",
      "                <tr class='athing' id='24248209'>\n",
      "      <td align=\"right\" valign=\"top\" class=\"title\"><span class=\"rank\">28.</span></td>      <td valign=\"top\" class=\"votelinks\"><center><a id='up_24248209' href='vote?id=24248209&amp;how=up&amp;goto=news'><div class='votearrow' title='upvote'></div></a></center></td><td class=\"title\"><a href=\"https://meta.stackoverflow.com/questions/400506/congratulations-for-reaching-a-million-gordon-linoff\" class=\"storylink\">Congratulations for reaching a million, Gordon Linoff</a><span class=\"sitebit comhead\"> (<a href=\"from?site=stackoverflow.com\"><span class=\"sitestr\">stackoverflow.com</span></a>)</span></td></tr><tr><td colspan=\"2\"></td><td class=\"subtext\">\n",
      "        <span class=\"score\" id=\"score_24248209\">116 points</span> by <a href=\"user?id=brudgers\" class=\"hnuser\">brudgers</a> <span class=\"age\"><a href=\"item?id=24248209\">7 hours ago</a></span> <span id=\"unv_24248209\"></span> | <a href=\"hide?id=24248209&amp;goto=news\">hide</a> | <a href=\"item?id=24248209\">46&nbsp;comments</a>              </td></tr>\n",
      "      <tr class=\"spacer\" style=\"height:5px\"></tr>\n",
      "                <tr class='athing' id='24253943'>\n",
      "      <td align=\"right\" valign=\"top\" class=\"title\"><span class=\"rank\">29.</span></td>      <td valign=\"top\" class=\"votelinks\"><center><a id='up_24253943' href='vote?id=24253943&amp;how=up&amp;goto=news'><div class='votearrow' title='upvote'></div></a></center></td><td class=\"title\"><a href=\"https://cdn.vox-cdn.com/uploads/chorus_asset/file/21810025/statement_support_microsoft.pdf\" class=\"storylink\">Microsoft Statement in Support of Epic [pdf]</a><span class=\"sitebit comhead\"> (<a href=\"from?site=vox-cdn.com\"><span class=\"sitestr\">vox-cdn.com</span></a>)</span></td></tr><tr><td colspan=\"2\"></td><td class=\"subtext\">\n",
      "        <span class=\"score\" id=\"score_24253943\">18 points</span> by <a href=\"user?id=jarsin\" class=\"hnuser\">jarsin</a> <span class=\"age\"><a href=\"item?id=24253943\">4 hours ago</a></span> <span id=\"unv_24253943\"></span> | <a href=\"hide?id=24253943&amp;goto=news\">hide</a> | <a href=\"item?id=24253943\">5&nbsp;comments</a>              </td></tr>\n",
      "      <tr class=\"spacer\" style=\"height:5px\"></tr>\n",
      "                <tr class='athing' id='24233770'>\n",
      "      <td align=\"right\" valign=\"top\" class=\"title\"><span class=\"rank\">30.</span></td>      <td valign=\"top\" class=\"votelinks\"><center><a id='up_24233770' href='vote?id=24233770&amp;how=up&amp;goto=news'><div class='votearrow' title='upvote'></div></a></center></td><td class=\"title\"><a href=\"https://worldofspectrum.net/features/warajevo/Story.html\" class=\"storylink\">Development of Warajevo: ZX Spectrum Emulator Made During the Bosnian War</a><span class=\"sitebit comhead\"> (<a href=\"from?site=worldofspectrum.net\"><span class=\"sitestr\">worldofspectrum.net</span></a>)</span></td></tr><tr><td colspan=\"2\"></td><td class=\"subtext\">\n",
      "        <span class=\"score\" id=\"score_24233770\">102 points</span> by <a href=\"user?id=krige\" class=\"hnuser\">krige</a> <span class=\"age\"><a href=\"item?id=24233770\">13 hours ago</a></span> <span id=\"unv_24233770\"></span> | <a href=\"hide?id=24233770&amp;goto=news\">hide</a> | <a href=\"item?id=24233770\">17&nbsp;comments</a>              </td></tr>\n",
      "      <tr class=\"spacer\" style=\"height:5px\"></tr>\n",
      "            <tr class=\"morespace\" style=\"height:10px\"></tr><tr><td colspan=\"2\"></td><td class=\"title\"><a href=\"news?p=2\" class=\"morelink\" rel=\"next\">More</a></td></tr>\n",
      "  </table>\n",
      "</td></tr>\n",
      "<tr><td><img src=\"s.gif\" height=\"10\" width=\"0\"><table width=\"100%\" cellspacing=\"0\" cellpadding=\"1\"><tr><td bgcolor=\"#ff6600\"></td></tr></table><br><center><span class=\"yclinks\"><a href=\"newsguidelines.html\">Guidelines</a>\n",
      "        | <a href=\"newsfaq.html\">FAQ</a>\n",
      "        | <a href=\"mailto:hn@ycombinator.com\">Support</a>\n",
      "        | <a href=\"https://github.com/HackerNews/API\">API</a>\n",
      "        | <a href=\"security.html\">Security</a>\n",
      "        | <a href=\"lists\">Lists</a>\n",
      "        | <a href=\"bookmarklet.html\" rel=\"nofollow\">Bookmarklet</a>\n",
      "        | <a href=\"http://www.ycombinator.com/legal/\">Legal</a>\n",
      "        | <a href=\"http://www.ycombinator.com/apply/\">Apply to YC</a>\n",
      "        | <a href=\"mailto:hn@ycombinator.com\">Contact</a></span><br><br><form method=\"get\" action=\"//hn.algolia.com/\">Search:\n",
      "          <input type=\"text\" name=\"q\" value=\"\" size=\"17\" autocorrect=\"off\" spellcheck=\"false\" autocapitalize=\"off\" autocomplete=\"false\"></form>\n",
      "            </center></td></tr>\n",
      "      </table></center></body><script type='text/javascript' src='hn.js?ixbO4BlIS8HIUiSaCCi2'></script></html>\n",
      "\n"
     ]
    }
   ],
   "source": [
    "import requests\n",
    "\n",
    "# Fetch a web page\n",
    "r = requests.get(\"https://news.ycombinator.com\")\n",
    "print(r.text)"
   ]
  },
  {
   "cell_type": "code",
   "execution_count": 7,
   "metadata": {},
   "outputs": [
    {
     "name": "stdout",
     "output_type": "stream",
     "text": [
      "\n",
      "        \n",
      "          \n",
      "        Hacker News\n",
      "        \n",
      "                  Hacker News\n",
      "              new | past | comments | ask | show | jobs | submit            \n",
      "                              login\n",
      "                          \n",
      "              \n",
      "\n",
      "              \n",
      "      1.      New nitrogen products are in the air (yale.edu)\n",
      "        33 points by apsec112 1 hour ago  | hide | 2&nbsp;comments              \n",
      "      \n",
      "                \n",
      "      2.      Persisting as a solo founder (vishnu.tech)\n",
      "        453 points by vishnumohandas 10 hours ago  | hide | 181&nbsp;comments              \n",
      "      \n",
      "                \n",
      "      3.      Build Your Own FPGA (2012) (notdot.net)\n",
      "        141 points by hinzundcode 7 hours ago  | hide | 14&nbsp;comments              \n",
      "      \n",
      "                \n",
      "      4.      Finding vulnerable Twitter accounts with expired domains (zainamro.com)\n",
      "        135 points by zainamro 7 hours ago  | hide | 70&nbsp;comments              \n",
      "      \n",
      "                \n",
      "      5.      All about Woad (woad.org.uk)\n",
      "        27 points by brudgers 3 hours ago  | hide | 5&nbsp;comments              \n",
      "      \n",
      "                \n",
      "      6.      Songwhip – Share a music link to every platform (songwhip.com)\n",
      "        85 points by styfle 6 hours ago  | hide | 18&nbsp;comments              \n",
      "      \n",
      "                \n",
      "      7.      The demise of the second-hand bookshop (thecritic.co.uk)\n",
      "        103 points by pseudolus 8 hours ago  | hide | 82&nbsp;comments              \n",
      "      \n",
      "                \n",
      "      8.      Simultaneous AP and Client Mode Wi-Fi on Raspberry Pi Zero W (github.com)\n",
      "        212 points by lukicdarkoo 12 hours ago  | hide | 78&nbsp;comments              \n",
      "      \n",
      "                \n",
      "      9.      Launch HN: Depict.ai (YC S20) – Product recommendations for any e-commerce store\n",
      "        81 points by antonoo 7 hours ago  | hide | 41&nbsp;comments              \n",
      "      \n",
      "                \n",
      "      10.      Implement an emulator for a fantasy CPU in JavaScript (dev.to)\n",
      "        33 points by codeguppy 5 hours ago  | hide | 3&nbsp;comments              \n",
      "      \n",
      "                \n",
      "      11.      Natural language benchmarks don’t measure AI models’ general knowledge well (venturebeat.com)\n",
      "        26 points by optimalsolver 4 hours ago  | hide | 8&nbsp;comments              \n",
      "      \n",
      "                \n",
      "      12.      My Fourier Epicycles (myfourierepicycles.com)\n",
      "        54 points by signa11 6 hours ago  | hide | 9&nbsp;comments              \n",
      "      \n",
      "                \n",
      "      13.      Never run ‘python’ in your downloads folder (twistedmatrix.com)\n",
      "        152 points by ingve 12 hours ago  | hide | 95&nbsp;comments              \n",
      "      \n",
      "                \n",
      "      14.      Mark Zuckerberg Stoked Washington’s Fears About TikTok (wsj.com)\n",
      "        11 points by ra7 14 minutes ago  | hide | 4&nbsp;comments              \n",
      "      \n",
      "                \n",
      "      15.      Semi-transparent solar panels allow concurrent production of crops and power (wiley.com)\n",
      "        159 points by rch 9 hours ago  | hide | 164&nbsp;comments              \n",
      "      \n",
      "                \n",
      "      16.      Bliss: A language for systems programming (1971) [pdf] (arizona.edu)\n",
      "        15 points by tjalfi 2 hours ago  | hide | 4&nbsp;comments              \n",
      "      \n",
      "                \n",
      "      17.      Teletext Bad Apple (bitshifters.github.io)\n",
      "        36 points by bemmu 4 hours ago  | hide | 9&nbsp;comments              \n",
      "      \n",
      "                \n",
      "      18.      How to Leave Work at Work (hbr.org)\n",
      "        90 points by wallflower 9 hours ago  | hide | 29&nbsp;comments              \n",
      "      \n",
      "                \n",
      "      19.      Chrome, Firefox extension that blocks NSFW images using TensorFlow JS (github.com)\n",
      "        124 points by bishalb 11 hours ago  | hide | 136&nbsp;comments              \n",
      "      \n",
      "                \n",
      "      20.      Paragon submits 27k NTFS driver to Linux kernel (theregister.com)\n",
      "        129 points by kiyanwang 11 hours ago  | hide | 99&nbsp;comments              \n",
      "      \n",
      "                \n",
      "      21.      YTS torrent tracker part of new anti-piracy scheme (torrentfreak.com)\n",
      "        134 points by stiray 10 hours ago  | hide | 58&nbsp;comments              \n",
      "      \n",
      "                \n",
      "      22.      Show HN: Boook.link – Share a book with links to all stores (boook.link)\n",
      "        37 points by Cenk 5 hours ago  | hide | 8&nbsp;comments              \n",
      "      \n",
      "                \n",
      "      23.      Bare Metal Rust Generics (ecorax.net)\n",
      "        142 points by cube00 4 hours ago  | hide | 28&nbsp;comments              \n",
      "      \n",
      "                \n",
      "      24.      The Disaster Poet (laphamsquarterly.org)\n",
      "        4 points by benbreen 1 hour ago  | hide | 1&nbsp;comment              \n",
      "      \n",
      "                \n",
      "      25.      Earth has lost 28 trillion tonnes of ice in less than 30 years (theguardian.com)\n",
      "        27 points by seigando 1 hour ago  | hide | 5&nbsp;comments              \n",
      "      \n",
      "                \n",
      "      26.      Chromium devs want the browser to talk to devices, computers directly (theregister.com)\n",
      "        89 points by kiyanwang 11 hours ago  | hide | 50&nbsp;comments              \n",
      "      \n",
      "                \n",
      "      27.      Airbus pilot tries Microsoft Flight Simulator [video] (youtube.com)\n",
      "        87 points by doener 3 hours ago  | hide | 60&nbsp;comments              \n",
      "      \n",
      "                \n",
      "      28.      Congratulations for reaching a million, Gordon Linoff (stackoverflow.com)\n",
      "        116 points by brudgers 7 hours ago  | hide | 46&nbsp;comments              \n",
      "      \n",
      "                \n",
      "      29.      Microsoft Statement in Support of Epic [pdf] (vox-cdn.com)\n",
      "        18 points by jarsin 4 hours ago  | hide | 5&nbsp;comments              \n",
      "      \n",
      "                \n",
      "      30.      Development of Warajevo: ZX Spectrum Emulator Made During the Bosnian War (worldofspectrum.net)\n",
      "        102 points by krige 13 hours ago  | hide | 17&nbsp;comments              \n",
      "      \n",
      "            More\n",
      "  \n",
      "\n",
      "Guidelines\n",
      "        | FAQ\n",
      "        | Support\n",
      "        | API\n",
      "        | Security\n",
      "        | Lists\n",
      "        | Bookmarklet\n",
      "        | Legal\n",
      "        | Apply to YC\n",
      "        | ContactSearch:\n",
      "          \n",
      "            \n",
      "      \n",
      "\n"
     ]
    }
   ],
   "source": [
    "import re\n",
    "\n",
    "# Remove HTML tags using RegEx\n",
    "pattern = re.compile(r'<.*?>')  # tags look like <...>\n",
    "print(pattern.sub('', r.text))  # replace them with blank"
   ]
  },
  {
   "cell_type": "code",
   "execution_count": 8,
   "metadata": {},
   "outputs": [
    {
     "name": "stdout",
     "output_type": "stream",
     "text": [
      "\n",
      "        \n",
      "          \n",
      "        Hacker News\n",
      "        \n",
      "                  Hacker News\n",
      "              new | past | comments | ask | show | jobs | submit            \n",
      "                              login\n",
      "                          \n",
      "              \n",
      "\n",
      "              \n",
      "      1.      New nitrogen products are in the air (yale.edu)\n",
      "        33 points by apsec112 1 hour ago  | hide | 2 comments              \n",
      "      \n",
      "                \n",
      "      2.      Persisting as a solo founder (vishnu.tech)\n",
      "        453 points by vishnumohandas 10 hours ago  | hide | 181 comments              \n",
      "      \n",
      "                \n",
      "      3.      Build Your Own FPGA (2012) (notdot.net)\n",
      "        141 points by hinzundcode 7 hours ago  | hide | 14 comments              \n",
      "      \n",
      "                \n",
      "      4.      Finding vulnerable Twitter accounts with expired domains (zainamro.com)\n",
      "        135 points by zainamro 7 hours ago  | hide | 70 comments              \n",
      "      \n",
      "                \n",
      "      5.      All about Woad (woad.org.uk)\n",
      "        27 points by brudgers 3 hours ago  | hide | 5 comments              \n",
      "      \n",
      "                \n",
      "      6.      Songwhip – Share a music link to every platform (songwhip.com)\n",
      "        85 points by styfle 6 hours ago  | hide | 18 comments              \n",
      "      \n",
      "                \n",
      "      7.      The demise of the second-hand bookshop (thecritic.co.uk)\n",
      "        103 points by pseudolus 8 hours ago  | hide | 82 comments              \n",
      "      \n",
      "                \n",
      "      8.      Simultaneous AP and Client Mode Wi-Fi on Raspberry Pi Zero W (github.com)\n",
      "        212 points by lukicdarkoo 12 hours ago  | hide | 78 comments              \n",
      "      \n",
      "                \n",
      "      9.      Launch HN: Depict.ai (YC S20) – Product recommendations for any e-commerce store\n",
      "        81 points by antonoo 7 hours ago  | hide | 41 comments              \n",
      "      \n",
      "                \n",
      "      10.      Implement an emulator for a fantasy CPU in JavaScript (dev.to)\n",
      "        33 points by codeguppy 5 hours ago  | hide | 3 comments              \n",
      "      \n",
      "                \n",
      "      11.      Natural language benchmarks don’t measure AI models’ general knowledge well (venturebeat.com)\n",
      "        26 points by optimalsolver 4 hours ago  | hide | 8 comments              \n",
      "      \n",
      "                \n",
      "      12.      My Fourier Epicycles (myfourierepicycles.com)\n",
      "        54 points by signa11 6 hours ago  | hide | 9 comments              \n",
      "      \n",
      "                \n",
      "      13.      Never run ‘python’ in your downloads folder (twistedmatrix.com)\n",
      "        152 points by ingve 12 hours ago  | hide | 95 comments              \n",
      "      \n",
      "                \n",
      "      14.      Mark Zuckerberg Stoked Washington’s Fears About TikTok (wsj.com)\n",
      "        11 points by ra7 14 minutes ago  | hide | 4 comments              \n",
      "      \n",
      "                \n",
      "      15.      Semi-transparent solar panels allow concurrent production of crops and power (wiley.com)\n",
      "        159 points by rch 9 hours ago  | hide | 164 comments              \n",
      "      \n",
      "                \n",
      "      16.      Bliss: A language for systems programming (1971) [pdf] (arizona.edu)\n",
      "        15 points by tjalfi 2 hours ago  | hide | 4 comments              \n",
      "      \n",
      "                \n",
      "      17.      Teletext Bad Apple (bitshifters.github.io)\n",
      "        36 points by bemmu 4 hours ago  | hide | 9 comments              \n",
      "      \n",
      "                \n",
      "      18.      How to Leave Work at Work (hbr.org)\n",
      "        90 points by wallflower 9 hours ago  | hide | 29 comments              \n",
      "      \n",
      "                \n",
      "      19.      Chrome, Firefox extension that blocks NSFW images using TensorFlow JS (github.com)\n",
      "        124 points by bishalb 11 hours ago  | hide | 136 comments              \n",
      "      \n",
      "                \n",
      "      20.      Paragon submits 27k NTFS driver to Linux kernel (theregister.com)\n",
      "        129 points by kiyanwang 11 hours ago  | hide | 99 comments              \n",
      "      \n",
      "                \n",
      "      21.      YTS torrent tracker part of new anti-piracy scheme (torrentfreak.com)\n",
      "        134 points by stiray 10 hours ago  | hide | 58 comments              \n",
      "      \n",
      "                \n",
      "      22.      Show HN: Boook.link – Share a book with links to all stores (boook.link)\n",
      "        37 points by Cenk 5 hours ago  | hide | 8 comments              \n",
      "      \n",
      "                \n",
      "      23.      Bare Metal Rust Generics (ecorax.net)\n",
      "        142 points by cube00 4 hours ago  | hide | 28 comments              \n",
      "      \n",
      "                \n",
      "      24.      The Disaster Poet (laphamsquarterly.org)\n",
      "        4 points by benbreen 1 hour ago  | hide | 1 comment              \n",
      "      \n",
      "                \n",
      "      25.      Earth has lost 28 trillion tonnes of ice in less than 30 years (theguardian.com)\n",
      "        27 points by seigando 1 hour ago  | hide | 5 comments              \n",
      "      \n",
      "                \n",
      "      26.      Chromium devs want the browser to talk to devices, computers directly (theregister.com)\n",
      "        89 points by kiyanwang 11 hours ago  | hide | 50 comments              \n",
      "      \n",
      "                \n",
      "      27.      Airbus pilot tries Microsoft Flight Simulator [video] (youtube.com)\n",
      "        87 points by doener 3 hours ago  | hide | 60 comments              \n",
      "      \n",
      "                \n",
      "      28.      Congratulations for reaching a million, Gordon Linoff (stackoverflow.com)\n",
      "        116 points by brudgers 7 hours ago  | hide | 46 comments              \n",
      "      \n",
      "                \n",
      "      29.      Microsoft Statement in Support of Epic [pdf] (vox-cdn.com)\n",
      "        18 points by jarsin 4 hours ago  | hide | 5 comments              \n",
      "      \n",
      "                \n",
      "      30.      Development of Warajevo: ZX Spectrum Emulator Made During the Bosnian War (worldofspectrum.net)\n",
      "        102 points by krige 13 hours ago  | hide | 17 comments              \n",
      "      \n",
      "            More\n",
      "  \n",
      "\n",
      "Guidelines\n",
      "        | FAQ\n",
      "        | Support\n",
      "        | API\n",
      "        | Security\n",
      "        | Lists\n",
      "        | Bookmarklet\n",
      "        | Legal\n",
      "        | Apply to YC\n",
      "        | ContactSearch:\n",
      "          \n",
      "            \n",
      "      \n",
      "\n"
     ]
    }
   ],
   "source": [
    "from bs4 import BeautifulSoup\n",
    "\n",
    "# Remove HTML tags using Beautiful Soup library\n",
    "soup = BeautifulSoup(r.text, \"html5lib\")\n",
    "print(soup.get_text())"
   ]
  },
  {
   "cell_type": "code",
   "execution_count": 9,
   "metadata": {
    "scrolled": true
   },
   "outputs": [
    {
     "data": {
      "text/plain": [
       "<tr class=\"athing\" id=\"24255452\">\n",
       "      <td align=\"right\" class=\"title\" valign=\"top\"><span class=\"rank\">1.</span></td>      <td class=\"votelinks\" valign=\"top\"><center><a href=\"vote?id=24255452&amp;how=up&amp;goto=news\" id=\"up_24255452\"><div class=\"votearrow\" title=\"upvote\"></div></a></center></td><td class=\"title\"><a class=\"storylink\" href=\"https://news.yale.edu/2020/08/12/new-nitrogen-products-are-air\">New nitrogen products are in the air</a><span class=\"sitebit comhead\"> (<a href=\"from?site=yale.edu\"><span class=\"sitestr\">yale.edu</span></a>)</span></td></tr>"
      ]
     },
     "execution_count": 9,
     "metadata": {},
     "output_type": "execute_result"
    }
   ],
   "source": [
    "# Find all articles\n",
    "summaries = soup.find_all(\"tr\", class_=\"athing\")\n",
    "summaries[0]"
   ]
  },
  {
   "cell_type": "code",
   "execution_count": 10,
   "metadata": {},
   "outputs": [
    {
     "data": {
      "text/plain": [
       "'New nitrogen products are in the air'"
      ]
     },
     "execution_count": 10,
     "metadata": {},
     "output_type": "execute_result"
    }
   ],
   "source": [
    "# Extract title\n",
    "summaries[0].find(\"a\", class_=\"storylink\").get_text().strip()"
   ]
  },
  {
   "cell_type": "code",
   "execution_count": 11,
   "metadata": {},
   "outputs": [
    {
     "name": "stdout",
     "output_type": "stream",
     "text": [
      "30 Article summaries found. Sample:\n",
      "New nitrogen products are in the air\n"
     ]
    }
   ],
   "source": [
    "# Find all articles, extract titles\n",
    "articles = []\n",
    "summaries = soup.find_all(\"tr\", class_=\"athing\")\n",
    "for summary in summaries:\n",
    "    title = summary.find(\"a\", class_=\"storylink\").get_text().strip()\n",
    "    articles.append((title))\n",
    "\n",
    "print(len(articles), \"Article summaries found. Sample:\")\n",
    "print(articles[0])"
   ]
  },
  {
   "cell_type": "markdown",
   "metadata": {
    "collapsed": true
   },
   "source": [
    "## Normalization"
   ]
  },
  {
   "cell_type": "markdown",
   "metadata": {},
   "source": [
    "### Case Normalization"
   ]
  },
  {
   "cell_type": "code",
   "execution_count": 12,
   "metadata": {},
   "outputs": [
    {
     "name": "stdout",
     "output_type": "stream",
     "text": [
      "The first time you see The Second Renaissance it may look boring. Look at it at least twice and definitely watch part 2. It will change your view of the matrix. Are the human people the ones who started the war ? Is AI a bad thing ?\n"
     ]
    }
   ],
   "source": [
    "# Sample text\n",
    "text = \"The first time you see The Second Renaissance it may look boring. Look at it at least twice and definitely watch part 2. It will change your view of the matrix. Are the human people the ones who started the war ? Is AI a bad thing ?\"\n",
    "print(text)"
   ]
  },
  {
   "cell_type": "code",
   "execution_count": 13,
   "metadata": {},
   "outputs": [
    {
     "name": "stdout",
     "output_type": "stream",
     "text": [
      "the first time you see the second renaissance it may look boring. look at it at least twice and definitely watch part 2. it will change your view of the matrix. are the human people the ones who started the war ? is ai a bad thing ?\n"
     ]
    }
   ],
   "source": [
    "# Convert to lowercase\n",
    "text = text.lower() \n",
    "print(text)"
   ]
  },
  {
   "cell_type": "markdown",
   "metadata": {},
   "source": [
    "### Punctuation Removal"
   ]
  },
  {
   "cell_type": "code",
   "execution_count": 14,
   "metadata": {},
   "outputs": [
    {
     "name": "stdout",
     "output_type": "stream",
     "text": [
      "the first time you see the second renaissance it may look boring  look at it at least twice and definitely watch part 2  it will change your view of the matrix  are the human people the ones who started the war   is ai a bad thing  \n"
     ]
    }
   ],
   "source": [
    "import re\n",
    "\n",
    "# Remove punctuation characters\n",
    "text = re.sub(r\"[^a-zA-Z0-9]\", \" \", text) \n",
    "print(text)"
   ]
  },
  {
   "cell_type": "markdown",
   "metadata": {},
   "source": [
    "## Tokenization"
   ]
  },
  {
   "cell_type": "code",
   "execution_count": 15,
   "metadata": {},
   "outputs": [
    {
     "name": "stdout",
     "output_type": "stream",
     "text": [
      "['the', 'first', 'time', 'you', 'see', 'the', 'second', 'renaissance', 'it', 'may', 'look', 'boring', 'look', 'at', 'it', 'at', 'least', 'twice', 'and', 'definitely', 'watch', 'part', '2', 'it', 'will', 'change', 'your', 'view', 'of', 'the', 'matrix', 'are', 'the', 'human', 'people', 'the', 'ones', 'who', 'started', 'the', 'war', 'is', 'ai', 'a', 'bad', 'thing']\n"
     ]
    }
   ],
   "source": [
    "# Split text into tokens (words)\n",
    "words = text.split()\n",
    "print(words)"
   ]
  },
  {
   "cell_type": "markdown",
   "metadata": {},
   "source": [
    "### NLTK: Natural Language ToolKit"
   ]
  },
  {
   "cell_type": "code",
   "execution_count": 16,
   "metadata": {},
   "outputs": [],
   "source": [
    "import os\n",
    "import nltk\n",
    "nltk.data.path.append(os.path.join(os.getcwd(), \"nltk_data\"))"
   ]
  },
  {
   "cell_type": "code",
   "execution_count": 17,
   "metadata": {},
   "outputs": [
    {
     "name": "stdout",
     "output_type": "stream",
     "text": [
      "Dr. Smith graduated from the University of Washington. He later started an analytics firm called Lux, which catered to enterprise customers.\n"
     ]
    }
   ],
   "source": [
    "# Another sample text\n",
    "text = \"Dr. Smith graduated from the University of Washington. He later started an analytics firm called Lux, which catered to enterprise customers.\"\n",
    "print(text)"
   ]
  },
  {
   "cell_type": "code",
   "execution_count": 18,
   "metadata": {},
   "outputs": [
    {
     "name": "stdout",
     "output_type": "stream",
     "text": [
      "['Dr.', 'Smith', 'graduated', 'from', 'the', 'University', 'of', 'Washington', '.', 'He', 'later', 'started', 'an', 'analytics', 'firm', 'called', 'Lux', ',', 'which', 'catered', 'to', 'enterprise', 'customers', '.']\n"
     ]
    }
   ],
   "source": [
    "from nltk.tokenize import word_tokenize\n",
    "\n",
    "# Split text into words using NLTK\n",
    "words = word_tokenize(text)\n",
    "print(words)"
   ]
  },
  {
   "cell_type": "code",
   "execution_count": 19,
   "metadata": {},
   "outputs": [
    {
     "name": "stdout",
     "output_type": "stream",
     "text": [
      "['Dr. Smith graduated from the University of Washington.', 'He later started an analytics firm called Lux, which catered to enterprise customers.']\n"
     ]
    }
   ],
   "source": [
    "from nltk.tokenize import sent_tokenize\n",
    "\n",
    "# Split text into sentences\n",
    "sentences = sent_tokenize(text)\n",
    "print(sentences)"
   ]
  },
  {
   "cell_type": "code",
   "execution_count": null,
   "metadata": {},
   "outputs": [],
   "source": [
    "# List stop words\n",
    "from nltk.corpus import stopwords\n",
    "print(stopwords.words(\"english\"))"
   ]
  },
  {
   "cell_type": "code",
   "execution_count": null,
   "metadata": {},
   "outputs": [],
   "source": [
    "# Reset text\n",
    "text = \"The first time you see The Second Renaissance it may look boring. Look at it at least twice and definitely watch part 2. It will change your view of the matrix. Are the human people the ones who started the war ? Is AI a bad thing ?\"\n",
    "\n",
    "# Normalize it\n",
    "text = re.sub(r\"[^a-zA-Z0-9]\", \" \", text.lower())\n",
    "\n",
    "# Tokenize it\n",
    "words = text.split()\n",
    "print(words)"
   ]
  },
  {
   "cell_type": "code",
   "execution_count": null,
   "metadata": {},
   "outputs": [],
   "source": [
    "# Remove stop words\n",
    "words = [w for w in words if w not in stopwords.words(\"english\")]\n",
    "print(words)"
   ]
  },
  {
   "cell_type": "markdown",
   "metadata": {},
   "source": [
    "### Sentence Parsing"
   ]
  },
  {
   "cell_type": "code",
   "execution_count": null,
   "metadata": {},
   "outputs": [],
   "source": [
    "import nltk\n",
    "\n",
    "# Define a custom grammar\n",
    "my_grammar = nltk.CFG.fromstring(\"\"\"\n",
    "S -> NP VP\n",
    "PP -> P NP\n",
    "NP -> Det N | Det N PP | 'I'\n",
    "VP -> V NP | VP PP\n",
    "Det -> 'an' | 'my'\n",
    "N -> 'elephant' | 'pajamas'\n",
    "V -> 'shot'\n",
    "P -> 'in'\n",
    "\"\"\")\n",
    "parser = nltk.ChartParser(my_grammar)\n",
    "\n",
    "# Parse a sentence\n",
    "sentence = word_tokenize(\"I shot an elephant in my pajamas\")\n",
    "for tree in parser.parse(sentence):\n",
    "    print(tree)"
   ]
  },
  {
   "cell_type": "markdown",
   "metadata": {},
   "source": [
    "## Stemming & Lemmatization\n",
    "\n",
    "### Stemming"
   ]
  },
  {
   "cell_type": "code",
   "execution_count": null,
   "metadata": {},
   "outputs": [],
   "source": [
    "from nltk.stem.porter import PorterStemmer\n",
    "\n",
    "# Reduce words to their stems\n",
    "stemmed = [PorterStemmer().stem(w) for w in words]\n",
    "print(stemmed)"
   ]
  },
  {
   "cell_type": "markdown",
   "metadata": {},
   "source": [
    "### Lemmatization"
   ]
  },
  {
   "cell_type": "code",
   "execution_count": 1,
   "metadata": {},
   "outputs": [
    {
     "ename": "NameError",
     "evalue": "name 'words' is not defined",
     "output_type": "error",
     "traceback": [
      "\u001b[0;31m---------------------------------------------------------------------------\u001b[0m",
      "\u001b[0;31mNameError\u001b[0m                                 Traceback (most recent call last)",
      "\u001b[0;32m<ipython-input-1-973660e6e5fa>\u001b[0m in \u001b[0;36m<module>\u001b[0;34m()\u001b[0m\n\u001b[1;32m      2\u001b[0m \u001b[0;34m\u001b[0m\u001b[0m\n\u001b[1;32m      3\u001b[0m \u001b[0;31m# Reduce words to their root form\u001b[0m\u001b[0;34m\u001b[0m\u001b[0;34m\u001b[0m\u001b[0m\n\u001b[0;32m----> 4\u001b[0;31m \u001b[0mlemmed\u001b[0m \u001b[0;34m=\u001b[0m \u001b[0;34m[\u001b[0m\u001b[0mWordNetLemmatizer\u001b[0m\u001b[0;34m(\u001b[0m\u001b[0;34m)\u001b[0m\u001b[0;34m.\u001b[0m\u001b[0mlemmatize\u001b[0m\u001b[0;34m(\u001b[0m\u001b[0mw\u001b[0m\u001b[0;34m)\u001b[0m \u001b[0;32mfor\u001b[0m \u001b[0mw\u001b[0m \u001b[0;32min\u001b[0m \u001b[0mwords\u001b[0m\u001b[0;34m]\u001b[0m\u001b[0;34m\u001b[0m\u001b[0m\n\u001b[0m\u001b[1;32m      5\u001b[0m \u001b[0mprint\u001b[0m\u001b[0;34m(\u001b[0m\u001b[0mlemmed\u001b[0m\u001b[0;34m)\u001b[0m\u001b[0;34m\u001b[0m\u001b[0m\n",
      "\u001b[0;31mNameError\u001b[0m: name 'words' is not defined"
     ]
    }
   ],
   "source": [
    "from nltk.stem.wordnet import WordNetLemmatizer\n",
    "\n",
    "# Reduce words to their root form\n",
    "lemmed = [WordNetLemmatizer().lemmatize(w) for w in words]\n",
    "print(lemmed)"
   ]
  },
  {
   "cell_type": "code",
   "execution_count": null,
   "metadata": {},
   "outputs": [],
   "source": [
    "# Lemmatize verbs by specifying pos\n",
    "lemmed = [WordNetLemmatizer().lemmatize(w, pos='v') for w in lemmed]\n",
    "print(lemmed)"
   ]
  },
  {
   "cell_type": "code",
   "execution_count": null,
   "metadata": {},
   "outputs": [],
   "source": []
  }
 ],
 "metadata": {
  "kernelspec": {
   "display_name": "Python 3",
   "language": "python",
   "name": "python3"
  },
  "language_info": {
   "codemirror_mode": {
    "name": "ipython",
    "version": 3
   },
   "file_extension": ".py",
   "mimetype": "text/x-python",
   "name": "python",
   "nbconvert_exporter": "python",
   "pygments_lexer": "ipython3",
   "version": "3.6.3"
  }
 },
 "nbformat": 4,
 "nbformat_minor": 2
}
